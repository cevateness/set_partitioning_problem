{
  "nbformat": 4,
  "nbformat_minor": 0,
  "metadata": {
    "colab": {
      "provenance": [],
      "authorship_tag": "ABX9TyMbjmllkoWr8lhVfCOfVJWp",
      "include_colab_link": true
    },
    "kernelspec": {
      "name": "python3",
      "display_name": "Python 3"
    },
    "language_info": {
      "name": "python"
    }
  },
  "cells": [
    {
      "cell_type": "markdown",
      "metadata": {
        "id": "view-in-github",
        "colab_type": "text"
      },
      "source": [
        "<a href=\"https://colab.research.google.com/github/cevateness/set_partitioning_problem/blob/main/spp_algos.ipynb\" target=\"_parent\"><img src=\"https://colab.research.google.com/assets/colab-badge.svg\" alt=\"Open In Colab\"/></a>"
      ]
    },
    {
      "cell_type": "code",
      "source": [
        "!pip install pulp\n",
        "!pip install ortools"
      ],
      "metadata": {
        "id": "-_EDQbDRk6qq",
        "outputId": "003e8e42-a192-426e-cf65-9082ea5220d7",
        "colab": {
          "base_uri": "https://localhost:8080/"
        }
      },
      "execution_count": 52,
      "outputs": [
        {
          "output_type": "stream",
          "name": "stdout",
          "text": [
            "Requirement already satisfied: pulp in /usr/local/lib/python3.10/dist-packages (2.9.0)\n",
            "Requirement already satisfied: ortools in /usr/local/lib/python3.10/dist-packages (9.10.4067)\n",
            "Requirement already satisfied: absl-py>=2.0.0 in /usr/local/lib/python3.10/dist-packages (from ortools) (2.1.0)\n",
            "Requirement already satisfied: numpy>=1.13.3 in /usr/local/lib/python3.10/dist-packages (from ortools) (1.26.4)\n",
            "Requirement already satisfied: pandas>=2.0.0 in /usr/local/lib/python3.10/dist-packages (from ortools) (2.1.4)\n",
            "Requirement already satisfied: protobuf>=5.26.1 in /usr/local/lib/python3.10/dist-packages (from ortools) (5.27.3)\n",
            "Requirement already satisfied: immutabledict>=3.0.0 in /usr/local/lib/python3.10/dist-packages (from ortools) (4.2.0)\n",
            "Requirement already satisfied: python-dateutil>=2.8.2 in /usr/local/lib/python3.10/dist-packages (from pandas>=2.0.0->ortools) (2.8.2)\n",
            "Requirement already satisfied: pytz>=2020.1 in /usr/local/lib/python3.10/dist-packages (from pandas>=2.0.0->ortools) (2024.1)\n",
            "Requirement already satisfied: tzdata>=2022.1 in /usr/local/lib/python3.10/dist-packages (from pandas>=2.0.0->ortools) (2024.1)\n",
            "Requirement already satisfied: six>=1.5 in /usr/local/lib/python3.10/dist-packages (from python-dateutil>=2.8.2->pandas>=2.0.0->ortools) (1.16.0)\n"
          ]
        }
      ]
    },
    {
      "cell_type": "code",
      "source": [
        "import random\n",
        "\n",
        "def is_feasible_solution_set(elements, subsets):\n",
        "    covered_elements = set()\n",
        "    for subset in subsets:\n",
        "        covered_elements.update(subset[\"set\"])\n",
        "    return covered_elements == elements\n",
        "\n",
        "def generate_problem_instance(num_elements, num_subsets):\n",
        "    elements = set(range(1, num_elements + 1))\n",
        "    while True:\n",
        "        subsets = []\n",
        "        for _ in range(num_subsets):\n",
        "            subset_size = random.randint(1, num_elements // 2)  # Random subset size\n",
        "            subset_elements = set(random.sample(elements, subset_size))\n",
        "            cost = random.randint(1, 10)  # Random cost for the subset\n",
        "            subsets.append({\"set\": subset_elements, \"cost\": cost})\n",
        "\n",
        "        # Check if the generated instance is feasible\n",
        "        if is_feasible_solution_set(elements, subsets):\n",
        "            break  # If feasible, break the loop and return the instance\n",
        "\n",
        "    return elements, subsets\n",
        "\n",
        "# Example usage\n",
        "num_elements = 8\n",
        "num_subsets = 15\n",
        "\n",
        "elements, subsets = generate_problem_instance(num_elements, num_subsets)\n",
        "\n",
        "print(\"Generated Elements:\", elements)\n",
        "print(\"Generated Subsets:\")\n",
        "for i, subset in enumerate(subsets):\n",
        "    print(f\"Subset {i + 1}: {subset}\")\n"
      ],
      "metadata": {
        "id": "rJJwhbKTcMZY",
        "colab": {
          "base_uri": "https://localhost:8080/"
        },
        "outputId": "8450828f-65f3-4f8b-cd50-e90c62a3c5ab"
      },
      "execution_count": 53,
      "outputs": [
        {
          "output_type": "stream",
          "name": "stdout",
          "text": [
            "Generated Elements: {1, 2, 3, 4, 5}\n",
            "Generated Subsets:\n",
            "Subset 1: {'set': {4}, 'cost': 1}\n",
            "Subset 2: {'set': {1, 3}, 'cost': 5}\n",
            "Subset 3: {'set': {1}, 'cost': 1}\n",
            "Subset 4: {'set': {1, 3}, 'cost': 10}\n",
            "Subset 5: {'set': {1, 3}, 'cost': 7}\n",
            "Subset 6: {'set': {3}, 'cost': 2}\n",
            "Subset 7: {'set': {5}, 'cost': 6}\n",
            "Subset 8: {'set': {3}, 'cost': 7}\n",
            "Subset 9: {'set': {1, 3}, 'cost': 3}\n",
            "Subset 10: {'set': {5}, 'cost': 4}\n",
            "Subset 11: {'set': {1}, 'cost': 3}\n",
            "Subset 12: {'set': {5}, 'cost': 6}\n",
            "Subset 13: {'set': {4, 5}, 'cost': 7}\n",
            "Subset 14: {'set': {1, 4}, 'cost': 10}\n",
            "Subset 15: {'set': {2, 4}, 'cost': 10}\n",
            "Subset 16: {'set': {1, 5}, 'cost': 7}\n",
            "Subset 17: {'set': {4}, 'cost': 3}\n",
            "Subset 18: {'set': {3}, 'cost': 6}\n",
            "Subset 19: {'set': {1}, 'cost': 8}\n",
            "Subset 20: {'set': {1}, 'cost': 10}\n",
            "Subset 21: {'set': {5}, 'cost': 8}\n",
            "Subset 22: {'set': {3, 4}, 'cost': 6}\n",
            "Subset 23: {'set': {2}, 'cost': 2}\n",
            "Subset 24: {'set': {1, 5}, 'cost': 9}\n",
            "Subset 25: {'set': {4, 5}, 'cost': 3}\n"
          ]
        },
        {
          "output_type": "stream",
          "name": "stderr",
          "text": [
            "<ipython-input-53-b014870056ee>:15: DeprecationWarning: Sampling from a set deprecated\n",
            "since Python 3.9 and will be removed in a subsequent version.\n",
            "  subset_elements = set(random.sample(elements, subset_size))\n"
          ]
        }
      ]
    },
    {
      "cell_type": "code",
      "source": [
        "import itertools\n",
        "import numpy as np\n",
        "\n",
        "# Helper function to check if a solution is feasible (covers all elements exactly once)\n",
        "def is_feasible_solution(solution, elements):\n",
        "    # Combine all the selected subsets\n",
        "    covered_elements = set()\n",
        "    for subset in solution:\n",
        "        covered_elements.update(subset['set'])\n",
        "\n",
        "    # Ensure that all elements are covered exactly once\n",
        "    if covered_elements != elements:\n",
        "        return False\n",
        "\n",
        "    # Check that no element is covered more than once\n",
        "    for elem in elements:\n",
        "        count = sum([1 for subset in solution if elem in subset['set']])\n",
        "        if count != 1:\n",
        "            return False\n",
        "\n",
        "    return True\n",
        "\n",
        "# Brute-force approach (exhaustive search) to find the optimal solution\n",
        "def brute_force_solution():\n",
        "    min_cost = float('inf')\n",
        "    best_solution = None\n",
        "    for r in range(1, len(subsets) + 1):\n",
        "        for combination in itertools.combinations(subsets, r):\n",
        "            if is_feasible_solution(combination,elements):\n",
        "                total_cost = sum(subset['cost'] for subset in combination)\n",
        "                if total_cost < min_cost:\n",
        "                    min_cost = total_cost\n",
        "                    best_solution = combination\n",
        "    return min_cost, best_solution\n",
        "\n",
        "\n"
      ],
      "metadata": {
        "id": "ZaOFW00MfnMt"
      },
      "execution_count": 54,
      "outputs": []
    },
    {
      "cell_type": "code",
      "source": [
        "# Branch and Bound\n",
        "def branch_and_bound():\n",
        "    best_solution = None\n",
        "    best_cost = float('inf')\n",
        "\n",
        "    def bb_recursive(current_solution, remaining_subsets, current_cost):\n",
        "        nonlocal best_solution, best_cost\n",
        "\n",
        "        # Prune the branch if current cost exceeds the best known cost\n",
        "        if current_cost >= best_cost:\n",
        "            return float('inf'), None\n",
        "\n",
        "        # Base case: if the current solution is feasible\n",
        "        if is_feasible_solution(current_solution, elements):\n",
        "            if current_cost < best_cost:\n",
        "                best_cost = current_cost\n",
        "                best_solution = current_solution\n",
        "            return current_cost, current_solution\n",
        "\n",
        "        # If no remaining subsets are left, return infinity cost\n",
        "        if not remaining_subsets:\n",
        "            return float('inf'), None\n",
        "\n",
        "        # Branching: choose to include or exclude the next subset\n",
        "        next_subset = remaining_subsets[0]\n",
        "        cost_with, solution_with = bb_recursive(current_solution + [next_subset], remaining_subsets[1:], current_cost + next_subset['cost'])\n",
        "        cost_without, solution_without = bb_recursive(current_solution, remaining_subsets[1:], current_cost)\n",
        "\n",
        "        # Return the better solution (with the minimum cost)\n",
        "        if cost_with < cost_without:\n",
        "            return cost_with, solution_with\n",
        "        else:\n",
        "            return cost_without, solution_without\n",
        "\n",
        "    # Sort subsets by cost-efficiency (optional, but improves performance)\n",
        "    sorted_subsets = sorted(subsets, key=lambda x: x['cost'])  # Example: sorting by cost only\n",
        "    bb_recursive([], sorted_subsets, 0)\n",
        "\n",
        "    return best_cost, best_solution\n"
      ],
      "metadata": {
        "id": "SVU-pzcIfR0w"
      },
      "execution_count": 55,
      "outputs": []
    },
    {
      "cell_type": "code",
      "source": [],
      "metadata": {
        "id": "DkDZyEWM-Ris"
      },
      "execution_count": 55,
      "outputs": []
    },
    {
      "cell_type": "code",
      "execution_count": 56,
      "metadata": {
        "id": "2vHVEnPoZNbL"
      },
      "outputs": [],
      "source": [
        "# Solver-based approach using PuLP for comparison\n",
        "from pulp import LpProblem, LpMinimize, LpVariable, lpSum\n",
        "\n",
        "def pulp_solver_based_solution():\n",
        "    problem = LpProblem(\"Set_Partitioning\", LpMinimize)\n",
        "\n",
        "    # Decision variables\n",
        "    x = [LpVariable(f\"x_{i}\", cat=\"Binary\") for i in range(len(subsets))]\n",
        "\n",
        "    # Objective function\n",
        "    problem += lpSum(x[i] * subsets[i][\"cost\"] for i in range(len(subsets)))\n",
        "\n",
        "    # Constraints: cover each element exactly once\n",
        "    for elem in elements:\n",
        "        problem += lpSum(x[i] for i in range(len(subsets)) if elem in subsets[i][\"set\"]) == 1\n",
        "\n",
        "    # Solve the problem\n",
        "    problem.solve()\n",
        "\n",
        "    solution = [subsets[i] for i in range(len(subsets)) if x[i].varValue == 1]\n",
        "    total_cost = sum(subset[\"cost\"] for subset in solution)\n",
        "    return total_cost, solution\n",
        "\n"
      ]
    },
    {
      "cell_type": "code",
      "source": [
        "from ortools.sat.python import cp_model\n",
        "\n",
        "def ortools_cpmodel_solution():\n",
        "    model = cp_model.CpModel()\n",
        "\n",
        "    # Decision variables\n",
        "    x = [model.NewBoolVar(f\"x_{i}\") for i in range(len(subsets))]\n",
        "\n",
        "    # Constraints: Cover each element exactly once\n",
        "    for elem in elements:\n",
        "        model.Add(sum(x[i] for i in range(len(subsets)) if elem in subsets[i]['set']) == 1)\n",
        "\n",
        "    # Objective function: Minimize the total cost\n",
        "    model.Minimize(sum(x[i] * subsets[i][\"cost\"] for i in range(len(subsets))))\n",
        "\n",
        "    # Solve the model\n",
        "    solver = cp_model.CpSolver()\n",
        "    status = solver.Solve(model)\n",
        "\n",
        "    if status == cp_model.OPTIMAL or status == cp_model.FEASIBLE:\n",
        "        solution = [subsets[i] for i in range(len(subsets)) if solver.Value(x[i]) == 1]\n",
        "        total_cost = sum(subset[\"cost\"] for subset in solution)\n",
        "        return total_cost, solution\n",
        "    else:\n",
        "        return None, None\n",
        "\n"
      ],
      "metadata": {
        "id": "UqbNbPTVcYYS"
      },
      "execution_count": 57,
      "outputs": []
    },
    {
      "cell_type": "code",
      "source": [
        "import time\n",
        "import matplotlib.pyplot as plt\n",
        "\n",
        "def time_algorithm(func):\n",
        "    \"\"\"Wrapper function to time any algorithm.\"\"\"\n",
        "    start_time = time.time()\n",
        "    total_cost, solution = func()  # Execute the algorithm\n",
        "    end_time = time.time()\n",
        "    runtime = end_time - start_time\n",
        "    return runtime, total_cost\n",
        "\n",
        "def compare_algorithms():\n",
        "    # Running the algorithms and recording results\n",
        "    algorithms = [\n",
        "        (\"OR-tools Constraint Programming\", ortools_cpmodel_solution),\n",
        "        (\"PuLP Solver Based\", pulp_solver_based_solution),\n",
        "        (\"Branch and Bound\", branch_and_bound),\n",
        "        (\"Brute Force\", brute_force_solution)\n",
        "    ]\n",
        "\n",
        "    results = []\n",
        "    for name, func in algorithms:\n",
        "        runtime, cost = time_algorithm(func)\n",
        "        results.append((name, runtime, cost))\n",
        "\n",
        "    return results\n",
        "\n",
        "def visualize_results(results):\n",
        "    # Extracting data for visualization\n",
        "    names = [name for name, _, _ in results]\n",
        "    runtimes = [runtime for _, runtime, _ in results]\n",
        "    costs = [cost for _, _, cost in results]\n",
        "\n",
        "    # Plotting the runtime comparison\n",
        "    fig, ax = plt.subplots(2, 1, figsize=(10, 8))\n",
        "\n",
        "    ax[0].barh(names, runtimes, color='skyblue')\n",
        "    ax[0].set_xlabel('Runtime (seconds)')\n",
        "    ax[0].set_title('Algorithm Runtime Comparison')\n",
        "\n",
        "    # Plotting the total cost comparison\n",
        "    ax[1].barh(names, costs, color='lightgreen')\n",
        "    ax[1].set_xlabel('Total Cost')\n",
        "    ax[1].set_title('Algorithm Total Cost Comparison')\n",
        "\n",
        "    plt.tight_layout()\n",
        "    plt.show()\n",
        "\n",
        "if __name__ == \"__main__\":\n",
        "    results = compare_algorithms()\n",
        "    visualize_results(results)\n"
      ],
      "metadata": {
        "id": "esTVbWtl-ZZT",
        "outputId": "e69685f2-9172-4153-8863-2e752de0384d",
        "colab": {
          "base_uri": "https://localhost:8080/",
          "height": 807
        }
      },
      "execution_count": 58,
      "outputs": [
        {
          "output_type": "display_data",
          "data": {
            "text/plain": [
              "<Figure size 1000x800 with 2 Axes>"
            ],
            "image/png": "[encoded data removed]"
          },
          "metadata": {}
        }
      ]
    },
    {
      "cell_type": "code",
      "source": [
        "results"
      ],
      "metadata": {
        "id": "vhy7AHagCo7I",
        "outputId": "7a02878f-7573-4785-e486-8cce5dd81143",
        "colab": {
          "base_uri": "https://localhost:8080/"
        }
      },
      "execution_count": 60,
      "outputs": [
        {
          "output_type": "execute_result",
          "data": {
            "text/plain": [
              "[('Constraint Programming', 0.007509946823120117, 8),\n",
              " ('PuLP Solver Based', 0.015808820724487305, 8),\n",
              " ('Branch and Bound', 32.100937366485596, 8),\n",
              " ('Brute Force', 119.27748370170593, 8)]"
            ]
          },
          "metadata": {},
          "execution_count": 60
        }
      ]
    }
  ]
}