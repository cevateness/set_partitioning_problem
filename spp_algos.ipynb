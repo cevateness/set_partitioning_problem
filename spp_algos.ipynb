{
  "nbformat": 4,
  "nbformat_minor": 0,
  "metadata": {
    "colab": {
      "provenance": [],
      "authorship_tag": "ABX9TyP9mPGpw+TbjfVZVRzlgjgp",
      "include_colab_link": true
    },
    "kernelspec": {
      "name": "python3",
      "display_name": "Python 3"
    },
    "language_info": {
      "name": "python"
    }
  },
  "cells": [
    {
      "cell_type": "markdown",
      "metadata": {
        "id": "view-in-github",
        "colab_type": "text"
      },
      "source": [
        "<a href=\"https://colab.research.google.com/github/cevateness/set_partitioning_problem/blob/main/spp_algos.ipynb\" target=\"_parent\"><img src=\"https://colab.research.google.com/assets/colab-badge.svg\" alt=\"Open In Colab\"/></a>"
      ]
    },
    {
      "cell_type": "code",
      "source": [
        "#!pip install pulp\n",
        "#!pip install ortools"
      ],
      "metadata": {
        "id": "-_EDQbDRk6qq"
      },
      "execution_count": 46,
      "outputs": []
    },
    {
      "cell_type": "code",
      "source": [
        "import random\n",
        "\n",
        "def is_feasible_solution_set(elements, subsets):\n",
        "    covered_elements = set()\n",
        "    for subset in subsets:\n",
        "        covered_elements.update(subset[\"set\"])\n",
        "    return covered_elements == elements\n",
        "\n",
        "def generate_problem_instance(num_elements, num_subsets):\n",
        "    elements = set(range(1, num_elements + 1))\n",
        "    while True:\n",
        "        subsets = []\n",
        "        for _ in range(num_subsets):\n",
        "            subset_size = random.randint(1, num_elements // 2)  # Random subset size\n",
        "            subset_elements = set(random.sample(elements, subset_size))\n",
        "            cost = random.randint(1, 10)  # Random cost for the subset\n",
        "            subsets.append({\"set\": subset_elements, \"cost\": cost})\n",
        "\n",
        "        # Check if the generated instance is feasible\n",
        "        if is_feasible_solution_set(elements, subsets):\n",
        "            break  # If feasible, break the loop and return the instance\n",
        "\n",
        "    return elements, subsets\n",
        "\n",
        "# Example usage\n",
        "num_elements = 10\n",
        "num_subsets = 20\n",
        "\n",
        "elements, subsets = generate_problem_instance(num_elements, num_subsets)\n",
        "\n",
        "print(\"Generated Elements:\", elements)\n",
        "print(\"Generated Subsets:\")\n",
        "for i, subset in enumerate(subsets):\n",
        "    print(f\"Subset {i + 1}: {subset}\")\n"
      ],
      "metadata": {
        "id": "rJJwhbKTcMZY",
        "colab": {
          "base_uri": "https://localhost:8080/"
        },
        "outputId": "a0201e77-0bcb-4656-c5e8-798ec6fec6d2"
      },
      "execution_count": 47,
      "outputs": [
        {
          "output_type": "stream",
          "name": "stdout",
          "text": [
            "Generated Elements: {1, 2, 3, 4, 5, 6, 7, 8, 9, 10}\n",
            "Generated Subsets:\n",
            "Subset 1: {'set': {1, 10}, 'cost': 5}\n",
            "Subset 2: {'set': {1, 2, 5, 6, 9}, 'cost': 5}\n",
            "Subset 3: {'set': {9, 1}, 'cost': 5}\n",
            "Subset 4: {'set': {6}, 'cost': 7}\n",
            "Subset 5: {'set': {9, 7}, 'cost': 3}\n",
            "Subset 6: {'set': {8, 1, 10, 5}, 'cost': 7}\n",
            "Subset 7: {'set': {1}, 'cost': 5}\n",
            "Subset 8: {'set': {10, 7}, 'cost': 7}\n",
            "Subset 9: {'set': {10, 3, 4}, 'cost': 4}\n",
            "Subset 10: {'set': {4, 6}, 'cost': 1}\n",
            "Subset 11: {'set': {8, 1, 10, 4}, 'cost': 7}\n",
            "Subset 12: {'set': {8}, 'cost': 1}\n",
            "Subset 13: {'set': {5, 6}, 'cost': 1}\n",
            "Subset 14: {'set': {2, 5, 6, 7, 9}, 'cost': 2}\n",
            "Subset 15: {'set': {9, 5, 1, 6}, 'cost': 7}\n",
            "Subset 16: {'set': {8}, 'cost': 9}\n",
            "Subset 17: {'set': {9, 5, 1}, 'cost': 8}\n",
            "Subset 18: {'set': {9, 4}, 'cost': 8}\n",
            "Subset 19: {'set': {10, 3, 4}, 'cost': 9}\n",
            "Subset 20: {'set': {10, 4, 7}, 'cost': 2}\n"
          ]
        },
        {
          "output_type": "stream",
          "name": "stderr",
          "text": [
            "<ipython-input-47-0fa4daab2b13>:15: DeprecationWarning: Sampling from a set deprecated\n",
            "since Python 3.9 and will be removed in a subsequent version.\n",
            "  subset_elements = set(random.sample(elements, subset_size))\n"
          ]
        }
      ]
    },
    {
      "cell_type": "code",
      "source": [
        "import itertools\n",
        "import numpy as np\n",
        "\n",
        "# Helper function to check if a solution is feasible (covers all elements exactly once)\n",
        "def is_feasible_solution(solution, elements):\n",
        "    # Combine all the selected subsets\n",
        "    covered_elements = set()\n",
        "    for subset in solution:\n",
        "        covered_elements.update(subset['set'])\n",
        "\n",
        "    # Ensure that all elements are covered exactly once\n",
        "    if covered_elements != elements:\n",
        "        return False\n",
        "\n",
        "    # Check that no element is covered more than once\n",
        "    for elem in elements:\n",
        "        count = sum([1 for subset in solution if elem in subset['set']])\n",
        "        if count != 1:\n",
        "            return False\n",
        "\n",
        "    return True\n",
        "\n",
        "# Brute-force approach (exhaustive search) to find the optimal solution\n",
        "def brute_force_solution():\n",
        "    min_cost = float('inf')\n",
        "    best_solution = None\n",
        "    for r in range(1, len(subsets) + 1):\n",
        "        for combination in itertools.combinations(subsets, r):\n",
        "            if is_feasible_solution(combination,elements):\n",
        "                total_cost = sum(subset['cost'] for subset in combination)\n",
        "                if total_cost < min_cost:\n",
        "                    min_cost = total_cost\n",
        "                    best_solution = combination\n",
        "    return min_cost, best_solution\n",
        "\n",
        "\n"
      ],
      "metadata": {
        "id": "ZaOFW00MfnMt"
      },
      "execution_count": 48,
      "outputs": []
    },
    {
      "cell_type": "code",
      "source": [
        "# Branch and Bound\n",
        "def branch_and_bound():\n",
        "    def bb_recursive(current_solution, remaining_subsets):\n",
        "        # Base case: if the current solution is feasible\n",
        "        if is_feasible_solution(current_solution,elements):\n",
        "            return sum(subset['cost'] for subset in current_solution), current_solution\n",
        "\n",
        "        # If no remaining subsets are left, return infinity cost\n",
        "        if not remaining_subsets:\n",
        "            return float('inf'), None\n",
        "\n",
        "        # Branching: choose to include or exclude the next subset\n",
        "        next_subset = remaining_subsets[0]\n",
        "        cost_with, solution_with = bb_recursive(current_solution + [next_subset], remaining_subsets[1:])\n",
        "        cost_without, solution_without = bb_recursive(current_solution, remaining_subsets[1:])\n",
        "\n",
        "        # Return the better solution (with the minimum cost)\n",
        "        if cost_with < cost_without:\n",
        "            return cost_with, solution_with\n",
        "        else:\n",
        "            return cost_without, solution_without\n",
        "\n",
        "    return bb_recursive([], subsets)"
      ],
      "metadata": {
        "id": "SVU-pzcIfR0w"
      },
      "execution_count": 49,
      "outputs": []
    },
    {
      "cell_type": "code",
      "execution_count": 50,
      "metadata": {
        "id": "2vHVEnPoZNbL"
      },
      "outputs": [],
      "source": [
        "# Solver-based approach using PuLP for comparison\n",
        "from pulp import LpProblem, LpMinimize, LpVariable, lpSum\n",
        "\n",
        "def pulp_solver_based_solution():\n",
        "    problem = LpProblem(\"Set_Partitioning\", LpMinimize)\n",
        "\n",
        "    # Decision variables\n",
        "    x = [LpVariable(f\"x_{i}\", cat=\"Binary\") for i in range(len(subsets))]\n",
        "\n",
        "    # Objective function\n",
        "    problem += lpSum(x[i] * subsets[i][\"cost\"] for i in range(len(subsets)))\n",
        "\n",
        "    # Constraints: cover each element exactly once\n",
        "    for elem in elements:\n",
        "        problem += lpSum(x[i] for i in range(len(subsets)) if elem in subsets[i][\"set\"]) == 1\n",
        "\n",
        "    # Solve the problem\n",
        "    problem.solve()\n",
        "\n",
        "    solution = [subsets[i] for i in range(len(subsets)) if x[i].varValue == 1]\n",
        "    total_cost = sum(subset[\"cost\"] for subset in solution)\n",
        "    return total_cost, solution\n",
        "\n"
      ]
    },
    {
      "cell_type": "code",
      "source": [
        "from ortools.sat.python import cp_model\n",
        "\n",
        "def constraint_programming_solution():\n",
        "    model = cp_model.CpModel()\n",
        "\n",
        "    # Decision variables\n",
        "    x = [model.NewBoolVar(f\"x_{i}\") for i in range(len(subsets))]\n",
        "\n",
        "    # Constraints: Cover each element exactly once\n",
        "    for elem in elements:\n",
        "        model.Add(sum(x[i] for i in range(len(subsets)) if elem in subsets[i]['set']) == 1)\n",
        "\n",
        "    # Objective function: Minimize the total cost\n",
        "    model.Minimize(sum(x[i] * subsets[i][\"cost\"] for i in range(len(subsets))))\n",
        "\n",
        "    # Solve the model\n",
        "    solver = cp_model.CpSolver()\n",
        "    status = solver.Solve(model)\n",
        "\n",
        "    if status == cp_model.OPTIMAL or status == cp_model.FEASIBLE:\n",
        "        solution = [subsets[i] for i in range(len(subsets)) if solver.Value(x[i]) == 1]\n",
        "        total_cost = sum(subset[\"cost\"] for subset in solution)\n",
        "        return total_cost, solution\n",
        "    else:\n",
        "        return None, None\n",
        "\n"
      ],
      "metadata": {
        "id": "UqbNbPTVcYYS"
      },
      "execution_count": 51,
      "outputs": []
    },
    {
      "cell_type": "code",
      "source": [
        "constraint_programming_solution()"
      ],
      "metadata": {
        "colab": {
          "base_uri": "https://localhost:8080/"
        },
        "id": "Hge8biXqhlTb",
        "outputId": "8763c87d-ee1f-4e26-ba9c-fd899f1a4f88"
      },
      "execution_count": 52,
      "outputs": [
        {
          "output_type": "execute_result",
          "data": {
            "text/plain": [
              "(12,\n",
              " [{'set': {1}, 'cost': 5},\n",
              "  {'set': {3, 4, 10}, 'cost': 4},\n",
              "  {'set': {8}, 'cost': 1},\n",
              "  {'set': {2, 5, 6, 7, 9}, 'cost': 2}])"
            ]
          },
          "metadata": {},
          "execution_count": 52
        }
      ]
    },
    {
      "cell_type": "code",
      "source": [
        "pulp_solver_based_solution()"
      ],
      "metadata": {
        "colab": {
          "base_uri": "https://localhost:8080/"
        },
        "id": "tdpk_vsniAT0",
        "outputId": "380a6cca-f886-4a08-f228-92b440064551"
      },
      "execution_count": 53,
      "outputs": [
        {
          "output_type": "execute_result",
          "data": {
            "text/plain": [
              "(12,\n",
              " [{'set': {1}, 'cost': 5},\n",
              "  {'set': {3, 4, 10}, 'cost': 4},\n",
              "  {'set': {8}, 'cost': 1},\n",
              "  {'set': {2, 5, 6, 7, 9}, 'cost': 2}])"
            ]
          },
          "metadata": {},
          "execution_count": 53
        }
      ]
    },
    {
      "cell_type": "code",
      "source": [
        "branch_and_bound()"
      ],
      "metadata": {
        "colab": {
          "base_uri": "https://localhost:8080/"
        },
        "id": "8WoFFVEmiB3B",
        "outputId": "b0677d3b-34e9-4cc5-d222-c24b431d28ef"
      },
      "execution_count": 54,
      "outputs": [
        {
          "output_type": "execute_result",
          "data": {
            "text/plain": [
              "(12,\n",
              " [{'set': {1}, 'cost': 5},\n",
              "  {'set': {3, 4, 10}, 'cost': 4},\n",
              "  {'set': {8}, 'cost': 1},\n",
              "  {'set': {2, 5, 6, 7, 9}, 'cost': 2}])"
            ]
          },
          "metadata": {},
          "execution_count": 54
        }
      ]
    },
    {
      "cell_type": "code",
      "source": [
        "brute_force_solution()"
      ],
      "metadata": {
        "colab": {
          "base_uri": "https://localhost:8080/"
        },
        "id": "OJ5ljAZqjBOj",
        "outputId": "baf97d8f-d139-4f6c-b583-17948efdb232"
      },
      "execution_count": 55,
      "outputs": [
        {
          "output_type": "execute_result",
          "data": {
            "text/plain": [
              "(12,\n",
              " ({'set': {1}, 'cost': 5},\n",
              "  {'set': {3, 4, 10}, 'cost': 4},\n",
              "  {'set': {8}, 'cost': 1},\n",
              "  {'set': {2, 5, 6, 7, 9}, 'cost': 2}))"
            ]
          },
          "metadata": {},
          "execution_count": 55
        }
      ]
    }
  ]
}